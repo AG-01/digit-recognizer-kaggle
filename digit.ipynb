{
  "cells": [
    {
      "cell_type": "markdown",
      "metadata": {
        "id": "view-in-github",
        "colab_type": "text"
      },
      "source": [
        "<a href=\"https://colab.research.google.com/github/AG-01/digit-recognizer-kaggle/blob/other/digit.ipynb\" target=\"_parent\"><img src=\"https://colab.research.google.com/assets/colab-badge.svg\" alt=\"Open In Colab\"/></a>"
      ]
    },
    {
      "cell_type": "code",
      "execution_count": null,
      "metadata": {
        "id": "rLcEtFlkowZu"
      },
      "outputs": [],
      "source": [
        "# Importing Libraries\n",
        "import numpy as np \n",
        "import pandas as pd\n",
        "from collections import Counter\n",
        "import math\n",
        "# Importing Library for Data Visualization\n",
        "import matplotlib.pyplot as plt\n",
        "\n",
        "import sklearn\n",
        "# Importing Algorithms for Model Training\n",
        "from sklearn import svm\n",
        "from sklearn.model_selection import GridSearchCV\n",
        "from sklearn.model_selection import train_test_split\n",
        "from sklearn.metrics import confusion_matrix\n",
        "from sklearn.metrics import accuracy_score, classification_report\n",
        "from sklearn.model_selection import learning_curve"
      ]
    },
    {
      "cell_type": "code",
      "execution_count": null,
      "metadata": {
        "colab": {
          "background_save": true,
          "base_uri": "https://localhost:8080/"
        },
        "id": "bMIIti8vp6jl",
        "outputId": "904bcef2-16f4-47d2-90ee-27c532cdc70e"
      },
      "outputs": [
        {
          "name": "stdout",
          "output_type": "stream",
          "text": [
            "replace sample_submission.csv? [y]es, [n]o, [A]ll, [N]one, [r]ename: "
          ]
        }
      ],
      "source": [
        "!unzip -qq /content/drive/MyDrive/digit-recognizer.zip"
      ]
    },
    {
      "cell_type": "code",
      "execution_count": null,
      "metadata": {
        "id": "1N31RSyhpB_c"
      },
      "outputs": [],
      "source": [
        "train = pd.read_csv('/content/train.csv')\n",
        "test = pd.read_csv('/content/test.csv')\n",
        "training_data = pd.read_csv('/content/train.csv')"
      ]
    },
    {
      "cell_type": "code",
      "execution_count": null,
      "metadata": {
        "id": "aMG0Z1W9sg_l"
      },
      "outputs": [],
      "source": [
        "train_label = train['label']\n",
        "train"
      ]
    },
    {
      "cell_type": "code",
      "execution_count": null,
      "metadata": {
        "id": "119ACeCPsooa"
      },
      "outputs": [],
      "source": [
        "# No. of Rows & Columns\n",
        "train.shape"
      ]
    },
    {
      "cell_type": "code",
      "execution_count": null,
      "metadata": {
        "id": "5voFT4zassIa"
      },
      "outputs": [],
      "source": [
        ""
      ]
    },
    {
      "cell_type": "code",
      "execution_count": null,
      "metadata": {
        "id": "OYtT_ncYs3v6"
      },
      "outputs": [],
      "source": [
        "# plt.figure(figsize=(25, 25))\n",
        "# create_pie(train, 'label')"
      ]
    },
    {
      "cell_type": "code",
      "execution_count": null,
      "metadata": {
        "id": "RBJ4DF8StLyL"
      },
      "outputs": [],
      "source": [
        "cp = train.drop(['label'], axis=1)\n",
        "ratio = int(math.sqrt(cp.shape[1]))"
      ]
    },
    {
      "cell_type": "code",
      "execution_count": null,
      "metadata": {
        "id": "mRyYP6eutQeC"
      },
      "outputs": [],
      "source": [
        "train = train.drop(['label'], axis=1)"
      ]
    },
    {
      "cell_type": "code",
      "execution_count": null,
      "metadata": {
        "id": "UZBuFRnptWaC"
      },
      "outputs": [],
      "source": [
        "# first_image = train.iloc[0]\n",
        "# first_image = np.array(first_image).reshape(ratio, ratio)\n",
        "# plt.imshow(first_image);"
      ]
    },
    {
      "cell_type": "code",
      "execution_count": null,
      "metadata": {
        "id": "gqVVQhT7tlvb"
      },
      "outputs": [],
      "source": [
        "# trying to see 9 first images\n",
        "plt.figure(figsize=(25, 25))\n",
        "columns = 3\n",
        "firsts_image = train.iloc[:10]\n",
        "\n",
        "\n"
      ]
    },
    {
      "cell_type": "code",
      "execution_count": null,
      "metadata": {
        "id": "uglZHcLLty0q"
      },
      "outputs": [],
      "source": [
        "X = train\n",
        "y = train_label.to_list()\n",
        "\n",
        "X = train[:1000]\n",
        "y = train_label[:1000].to_list()\n",
        "\n",
        "X = X / 255.0\n",
        "\n",
        "# split our data into train and test\n",
        "X_train, X_test, y_train, y_test = train_test_split( X, y,\n",
        "                                                    test_size=0.3,\n",
        "                                                    random_state=42)\n",
        "\n",
        "# and we also need a validation set \n",
        "X_test, X_val, y_test, y_val = train_test_split( X_test, y_test,\n",
        "                                                    test_size=0.3,\n",
        "                                                    random_state=42)\n",
        "        \n",
        "# normalized paramas\n",
        "# {'coef0': 1, 'degree': 2, 'gamma': 0.1, 'kernel': 'poly'}\n",
        "\n",
        "SVM = svm.SVC(gamma=0.2, coef0=1, kernel='poly', degree=2)\n",
        "SVM.fit(X_train, y_train) \n",
        "index = 1\n",
        "#image = np.array(X_train.iloc[i]).reshape(ratio, ratio)\n",
        "x_pred = SVM.predict(X_test)\n",
        "print('prediction: \\n', x_pred)\n",
        "\n",
        "X_prediction = SVM.predict(X_test)\n",
        "print(f'test accuracy: \\t{accuracy_score(y_test,X_prediction)}')\n",
        "print(f'{classification_report(y_test, X_prediction)}')\n",
        "''\n",
        "\n",
        "# Parameter Grid\n",
        "param_grid = {'kernel':['linear', 'poly'],# 'rbf', 'sigmoid'],\n",
        "              'degree':[1, 2,],\n",
        "              'gamma': [0.01, 0.1],\n",
        "              'coef0': [0.5, 1]\n",
        "             }\n",
        "grid = GridSearchCV(svm.SVC(), param_grid, cv=3)\n",
        "grid.fit(X_train, y_train)\n",
        "model = grid.best_estimator_\n",
        "model\n",
        "model.score(X_test, y_test)\n",
        "\n",
        "confusion_matrix(y_test, model.predict(X_test))"
      ]
    },
    {
      "cell_type": "code",
      "execution_count": null,
      "metadata": {
        "id": "uO1UMNXuukNC"
      },
      "outputs": [],
      "source": [
        "# Data Expansion\n",
        "from sklearn.datasets import load_digits\n",
        "from tensorflow.keras.datasets import mnist\n",
        "\n",
        "digits = load_digits()\n",
        "(X_train, y_train), (X_test, y_test) = mnist.load_data()\n",
        "\n",
        "train = pd.read_csv('/content/train.csv')\n",
        "\n",
        "train_label = train['label']"
      ]
    },
    {
      "cell_type": "code",
      "execution_count": null,
      "metadata": {
        "id": "2hOQUeRjuzFy"
      },
      "outputs": [],
      "source": [
        "digit_data = digits.data\n",
        "digit_target = digits.target\n"
      ]
    },
    {
      "cell_type": "code",
      "execution_count": null,
      "metadata": {
        "id": "wJX_LUp_u51T"
      },
      "outputs": [],
      "source": [
        "# Keras train image 28 X 28 px\n",
        "# I could use it with my actual dataset \n",
        "\n",
        "\n",
        "digit_data = X_train\n",
        "digit_target = y_train"
      ]
    },
    {
      "cell_type": "code",
      "execution_count": null,
      "metadata": {
        "id": "WNnz22Y7vCFj"
      },
      "outputs": [],
      "source": [
        "#(X_train, y_train), (X_test, y_test) = mnist.load_data()\n",
        "\n",
        "print(X_train.shape)\n",
        "print(X_test.shape)\n",
        "\n",
        "X_trainB = np.append(X_train, X_test).reshape(-1, 28 * 28)\n",
        "print(X_trainB.shape)\n",
        "\n",
        "y_trainB = np.append(y_train, y_test)\n",
        "print(y_trainB.shape)\n"
      ]
    },
    {
      "cell_type": "code",
      "execution_count": null,
      "metadata": {
        "id": "sMWfDSlMvV8q"
      },
      "outputs": [],
      "source": [
        "train = pd.read_csv('/content/train.csv')\n",
        "train_label = train['label']\n",
        "train = train.drop(['label'], axis=1)\n",
        "\n",
        "X_train = np.append(X_trainB, train).reshape(-1, 28 * 28)\n",
        "print(X_train.shape)\n",
        "\n",
        "y_train = np.append(y_trainB, train_label)\n",
        "print(y_train.shape)"
      ]
    },
    {
      "cell_type": "code",
      "execution_count": null,
      "metadata": {
        "id": "avEMP-Yvvhfi"
      },
      "outputs": [],
      "source": [
        "X = X_train\n",
        "y = y_train\n",
        "\n",
        "X = X / 255.0\n"
      ]
    },
    {
      "cell_type": "code",
      "execution_count": null,
      "metadata": {
        "id": "aIx772e5vryi"
      },
      "outputs": [],
      "source": [
        "\n",
        "plt.figure(figsize=(25, 25))\n",
        "columns = 3\n",
        "firsts_image = test.iloc[:10]\n",
        "\n",
        "\n",
        "for i in range(0, 9):\n",
        "    image = np.array(test.iloc[i]).reshape(ratio, ratio)\n",
        "    \n",
        "    plt.subplot(int( firsts_image.shape[0]/ columns + 1), columns, i + 1)\n",
        "    plt.imshow(image, cmap='Purples')\n"
      ]
    },
    {
      "cell_type": "code",
      "execution_count": null,
      "metadata": {
        "id": "LRktSnMyxl0h"
      },
      "outputs": [],
      "source": [
        "x_submit = test.copy()\n",
        "x_submit = x_submit / 255.0"
      ]
    },
    {
      "cell_type": "code",
      "execution_count": null,
      "metadata": {
        "id": "p_OZubiGxq6Z"
      },
      "outputs": [],
      "source": [
        "X_prediction = SVM.predict(x_submit)\n",
        "print('prediction: \\n', X_prediction)"
      ]
    },
    {
      "cell_type": "code",
      "execution_count": null,
      "metadata": {
        "id": "VVMFOX_Xyqlw"
      },
      "outputs": [],
      "source": [
        "pred = pd.Series(X_prediction, name='Label')\n",
        "pred.head()\n",
        "\n",
        "index_list = []\n",
        "\n",
        "for i, item in enumerate(pred):\n",
        "    index_list.append(i+1)\n",
        "    \n",
        "image_id = pd.Series(index_list, name='ImageId')"
      ]
    },
    {
      "cell_type": "code",
      "execution_count": null,
      "metadata": {
        "id": "wCw7AzLny0dJ"
      },
      "outputs": [],
      "source": [
        "submit = pd.concat([image_id, pred], axis=1)\n",
        "submit.to_csv('submission.csv', index=False)\n",
        "from google.colab import files\n",
        "files.download('submission.csv')\n",
        "submit.tail()\n",
        "sub = pd.read_csv('./submission.csv')\n",
        "sub"
      ]
    },
    {
      "cell_type": "code",
      "execution_count": null,
      "metadata": {
        "id": "PQyOjnG2zjNL"
      },
      "outputs": [],
      "source": [
        "newPredictions.to_csv(\"NewPredictions.csv\", index=False)\n",
        "\n",
        "from google.colab import files\n",
        "files.download('NewPredictions.csv')"
      ]
    }
  ],
  "metadata": {
    "colab": {
      "collapsed_sections": [],
      "name": "digit.ipynb",
      "provenance": [],
      "mount_file_id": "1bK7midJTOT3u-K6BpkYtIS2FBWrvB3Ak",
      "authorship_tag": "ABX9TyOcmwDuHVddENA0Hm1P/b0w",
      "include_colab_link": true
    },
    "kernelspec": {
      "display_name": "Python 3",
      "name": "python3"
    },
    "language_info": {
      "name": "python"
    }
  },
  "nbformat": 4,
  "nbformat_minor": 0
}