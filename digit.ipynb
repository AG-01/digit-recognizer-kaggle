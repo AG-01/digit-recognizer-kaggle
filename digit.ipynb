{
  "nbformat": 4,
  "nbformat_minor": 0,
  "metadata": {
    "colab": {
      "name": "digit.ipynb",
      "provenance": [],
      "collapsed_sections": [],
      "mount_file_id": "1bK7midJTOT3u-K6BpkYtIS2FBWrvB3Ak",
      "authorship_tag": "ABX9TyOxqqABWqPfOveglqD+Ungc",
      "include_colab_link": true
    },
    "kernelspec": {
      "name": "python3",
      "display_name": "Python 3"
    },
    "language_info": {
      "name": "python"
    }
  },
  "cells": [
    {
      "cell_type": "markdown",
      "metadata": {
        "id": "view-in-github",
        "colab_type": "text"
      },
      "source": [
        "<a href=\"https://colab.research.google.com/github/AG-01/digit-recognizer-kaggle/blob/other/digit.ipynb\" target=\"_parent\"><img src=\"https://colab.research.google.com/assets/colab-badge.svg\" alt=\"Open In Colab\"/></a>"
      ]
    },
    {
      "cell_type": "code",
      "execution_count": 1,
      "metadata": {
        "id": "rLcEtFlkowZu"
      },
      "outputs": [],
      "source": [
        "# Importing Libraries\n",
        "import numpy as np \n",
        "import pandas as pd\n",
        "from collections import Counter\n",
        "import math\n",
        "# Importing Library for Data Visualization\n",
        "import matplotlib.pyplot as plt\n",
        "\n",
        "import sklearn\n",
        "# Importing Algorithms for Model Training\n",
        "from sklearn import svm\n",
        "from sklearn.model_selection import GridSearchCV\n",
        "from sklearn.model_selection import train_test_split\n",
        "from sklearn.metrics import confusion_matrix\n",
        "from sklearn.metrics import accuracy_score, classification_report\n",
        "from sklearn.model_selection import learning_curve"
      ]
    },
    {
      "cell_type": "code",
      "source": [
        "!unzip -qq /content/drive/MyDrive/digit-recognizer.zip"
      ],
      "metadata": {
        "id": "bMIIti8vp6jl"
      },
      "execution_count": 2,
      "outputs": []
    },
    {
      "cell_type": "code",
      "source": [
        "train = pd.read_csv('/content/train.csv')\n",
        "test = pd.read_csv('/content/test.csv')\n",
        "training_data = pd.read_csv('/content/train.csv')"
      ],
      "metadata": {
        "id": "1N31RSyhpB_c"
      },
      "execution_count": 3,
      "outputs": []
    },
    {
      "cell_type": "code",
      "source": [
        "train_label = train['label']\n",
        "train"
      ],
      "metadata": {
        "colab": {
          "base_uri": "https://localhost:8080/",
          "height": 488
        },
        "id": "aMG0Z1W9sg_l",
        "outputId": "af5a5c53-58e3-4a64-d97c-6f08eff44c2f"
      },
      "execution_count": null,
      "outputs": [
        {
          "output_type": "execute_result",
          "data": {
            "text/plain": [
              "       label  pixel0  pixel1  pixel2  pixel3  pixel4  pixel5  pixel6  pixel7  \\\n",
              "0          1       0       0       0       0       0       0       0       0   \n",
              "1          0       0       0       0       0       0       0       0       0   \n",
              "2          1       0       0       0       0       0       0       0       0   \n",
              "3          4       0       0       0       0       0       0       0       0   \n",
              "4          0       0       0       0       0       0       0       0       0   \n",
              "...      ...     ...     ...     ...     ...     ...     ...     ...     ...   \n",
              "41995      0       0       0       0       0       0       0       0       0   \n",
              "41996      1       0       0       0       0       0       0       0       0   \n",
              "41997      7       0       0       0       0       0       0       0       0   \n",
              "41998      6       0       0       0       0       0       0       0       0   \n",
              "41999      9       0       0       0       0       0       0       0       0   \n",
              "\n",
              "       pixel8  ...  pixel774  pixel775  pixel776  pixel777  pixel778  \\\n",
              "0           0  ...         0         0         0         0         0   \n",
              "1           0  ...         0         0         0         0         0   \n",
              "2           0  ...         0         0         0         0         0   \n",
              "3           0  ...         0         0         0         0         0   \n",
              "4           0  ...         0         0         0         0         0   \n",
              "...       ...  ...       ...       ...       ...       ...       ...   \n",
              "41995       0  ...         0         0         0         0         0   \n",
              "41996       0  ...         0         0         0         0         0   \n",
              "41997       0  ...         0         0         0         0         0   \n",
              "41998       0  ...         0         0         0         0         0   \n",
              "41999       0  ...         0         0         0         0         0   \n",
              "\n",
              "       pixel779  pixel780  pixel781  pixel782  pixel783  \n",
              "0             0         0         0         0         0  \n",
              "1             0         0         0         0         0  \n",
              "2             0         0         0         0         0  \n",
              "3             0         0         0         0         0  \n",
              "4             0         0         0         0         0  \n",
              "...         ...       ...       ...       ...       ...  \n",
              "41995         0         0         0         0         0  \n",
              "41996         0         0         0         0         0  \n",
              "41997         0         0         0         0         0  \n",
              "41998         0         0         0         0         0  \n",
              "41999         0         0         0         0         0  \n",
              "\n",
              "[42000 rows x 785 columns]"
            ],
            "text/html": [
              "\n",
              "  <div id=\"df-87bd98a6-5e10-4f73-b889-040df2b4ccfd\">\n",
              "    <div class=\"colab-df-container\">\n",
              "      <div>\n",
              "<style scoped>\n",
              "    .dataframe tbody tr th:only-of-type {\n",
              "        vertical-align: middle;\n",
              "    }\n",
              "\n",
              "    .dataframe tbody tr th {\n",
              "        vertical-align: top;\n",
              "    }\n",
              "\n",
              "    .dataframe thead th {\n",
              "        text-align: right;\n",
              "    }\n",
              "</style>\n",
              "<table border=\"1\" class=\"dataframe\">\n",
              "  <thead>\n",
              "    <tr style=\"text-align: right;\">\n",
              "      <th></th>\n",
              "      <th>label</th>\n",
              "      <th>pixel0</th>\n",
              "      <th>pixel1</th>\n",
              "      <th>pixel2</th>\n",
              "      <th>pixel3</th>\n",
              "      <th>pixel4</th>\n",
              "      <th>pixel5</th>\n",
              "      <th>pixel6</th>\n",
              "      <th>pixel7</th>\n",
              "      <th>pixel8</th>\n",
              "      <th>...</th>\n",
              "      <th>pixel774</th>\n",
              "      <th>pixel775</th>\n",
              "      <th>pixel776</th>\n",
              "      <th>pixel777</th>\n",
              "      <th>pixel778</th>\n",
              "      <th>pixel779</th>\n",
              "      <th>pixel780</th>\n",
              "      <th>pixel781</th>\n",
              "      <th>pixel782</th>\n",
              "      <th>pixel783</th>\n",
              "    </tr>\n",
              "  </thead>\n",
              "  <tbody>\n",
              "    <tr>\n",
              "      <th>0</th>\n",
              "      <td>1</td>\n",
              "      <td>0</td>\n",
              "      <td>0</td>\n",
              "      <td>0</td>\n",
              "      <td>0</td>\n",
              "      <td>0</td>\n",
              "      <td>0</td>\n",
              "      <td>0</td>\n",
              "      <td>0</td>\n",
              "      <td>0</td>\n",
              "      <td>...</td>\n",
              "      <td>0</td>\n",
              "      <td>0</td>\n",
              "      <td>0</td>\n",
              "      <td>0</td>\n",
              "      <td>0</td>\n",
              "      <td>0</td>\n",
              "      <td>0</td>\n",
              "      <td>0</td>\n",
              "      <td>0</td>\n",
              "      <td>0</td>\n",
              "    </tr>\n",
              "    <tr>\n",
              "      <th>1</th>\n",
              "      <td>0</td>\n",
              "      <td>0</td>\n",
              "      <td>0</td>\n",
              "      <td>0</td>\n",
              "      <td>0</td>\n",
              "      <td>0</td>\n",
              "      <td>0</td>\n",
              "      <td>0</td>\n",
              "      <td>0</td>\n",
              "      <td>0</td>\n",
              "      <td>...</td>\n",
              "      <td>0</td>\n",
              "      <td>0</td>\n",
              "      <td>0</td>\n",
              "      <td>0</td>\n",
              "      <td>0</td>\n",
              "      <td>0</td>\n",
              "      <td>0</td>\n",
              "      <td>0</td>\n",
              "      <td>0</td>\n",
              "      <td>0</td>\n",
              "    </tr>\n",
              "    <tr>\n",
              "      <th>2</th>\n",
              "      <td>1</td>\n",
              "      <td>0</td>\n",
              "      <td>0</td>\n",
              "      <td>0</td>\n",
              "      <td>0</td>\n",
              "      <td>0</td>\n",
              "      <td>0</td>\n",
              "      <td>0</td>\n",
              "      <td>0</td>\n",
              "      <td>0</td>\n",
              "      <td>...</td>\n",
              "      <td>0</td>\n",
              "      <td>0</td>\n",
              "      <td>0</td>\n",
              "      <td>0</td>\n",
              "      <td>0</td>\n",
              "      <td>0</td>\n",
              "      <td>0</td>\n",
              "      <td>0</td>\n",
              "      <td>0</td>\n",
              "      <td>0</td>\n",
              "    </tr>\n",
              "    <tr>\n",
              "      <th>3</th>\n",
              "      <td>4</td>\n",
              "      <td>0</td>\n",
              "      <td>0</td>\n",
              "      <td>0</td>\n",
              "      <td>0</td>\n",
              "      <td>0</td>\n",
              "      <td>0</td>\n",
              "      <td>0</td>\n",
              "      <td>0</td>\n",
              "      <td>0</td>\n",
              "      <td>...</td>\n",
              "      <td>0</td>\n",
              "      <td>0</td>\n",
              "      <td>0</td>\n",
              "      <td>0</td>\n",
              "      <td>0</td>\n",
              "      <td>0</td>\n",
              "      <td>0</td>\n",
              "      <td>0</td>\n",
              "      <td>0</td>\n",
              "      <td>0</td>\n",
              "    </tr>\n",
              "    <tr>\n",
              "      <th>4</th>\n",
              "      <td>0</td>\n",
              "      <td>0</td>\n",
              "      <td>0</td>\n",
              "      <td>0</td>\n",
              "      <td>0</td>\n",
              "      <td>0</td>\n",
              "      <td>0</td>\n",
              "      <td>0</td>\n",
              "      <td>0</td>\n",
              "      <td>0</td>\n",
              "      <td>...</td>\n",
              "      <td>0</td>\n",
              "      <td>0</td>\n",
              "      <td>0</td>\n",
              "      <td>0</td>\n",
              "      <td>0</td>\n",
              "      <td>0</td>\n",
              "      <td>0</td>\n",
              "      <td>0</td>\n",
              "      <td>0</td>\n",
              "      <td>0</td>\n",
              "    </tr>\n",
              "    <tr>\n",
              "      <th>...</th>\n",
              "      <td>...</td>\n",
              "      <td>...</td>\n",
              "      <td>...</td>\n",
              "      <td>...</td>\n",
              "      <td>...</td>\n",
              "      <td>...</td>\n",
              "      <td>...</td>\n",
              "      <td>...</td>\n",
              "      <td>...</td>\n",
              "      <td>...</td>\n",
              "      <td>...</td>\n",
              "      <td>...</td>\n",
              "      <td>...</td>\n",
              "      <td>...</td>\n",
              "      <td>...</td>\n",
              "      <td>...</td>\n",
              "      <td>...</td>\n",
              "      <td>...</td>\n",
              "      <td>...</td>\n",
              "      <td>...</td>\n",
              "      <td>...</td>\n",
              "    </tr>\n",
              "    <tr>\n",
              "      <th>41995</th>\n",
              "      <td>0</td>\n",
              "      <td>0</td>\n",
              "      <td>0</td>\n",
              "      <td>0</td>\n",
              "      <td>0</td>\n",
              "      <td>0</td>\n",
              "      <td>0</td>\n",
              "      <td>0</td>\n",
              "      <td>0</td>\n",
              "      <td>0</td>\n",
              "      <td>...</td>\n",
              "      <td>0</td>\n",
              "      <td>0</td>\n",
              "      <td>0</td>\n",
              "      <td>0</td>\n",
              "      <td>0</td>\n",
              "      <td>0</td>\n",
              "      <td>0</td>\n",
              "      <td>0</td>\n",
              "      <td>0</td>\n",
              "      <td>0</td>\n",
              "    </tr>\n",
              "    <tr>\n",
              "      <th>41996</th>\n",
              "      <td>1</td>\n",
              "      <td>0</td>\n",
              "      <td>0</td>\n",
              "      <td>0</td>\n",
              "      <td>0</td>\n",
              "      <td>0</td>\n",
              "      <td>0</td>\n",
              "      <td>0</td>\n",
              "      <td>0</td>\n",
              "      <td>0</td>\n",
              "      <td>...</td>\n",
              "      <td>0</td>\n",
              "      <td>0</td>\n",
              "      <td>0</td>\n",
              "      <td>0</td>\n",
              "      <td>0</td>\n",
              "      <td>0</td>\n",
              "      <td>0</td>\n",
              "      <td>0</td>\n",
              "      <td>0</td>\n",
              "      <td>0</td>\n",
              "    </tr>\n",
              "    <tr>\n",
              "      <th>41997</th>\n",
              "      <td>7</td>\n",
              "      <td>0</td>\n",
              "      <td>0</td>\n",
              "      <td>0</td>\n",
              "      <td>0</td>\n",
              "      <td>0</td>\n",
              "      <td>0</td>\n",
              "      <td>0</td>\n",
              "      <td>0</td>\n",
              "      <td>0</td>\n",
              "      <td>...</td>\n",
              "      <td>0</td>\n",
              "      <td>0</td>\n",
              "      <td>0</td>\n",
              "      <td>0</td>\n",
              "      <td>0</td>\n",
              "      <td>0</td>\n",
              "      <td>0</td>\n",
              "      <td>0</td>\n",
              "      <td>0</td>\n",
              "      <td>0</td>\n",
              "    </tr>\n",
              "    <tr>\n",
              "      <th>41998</th>\n",
              "      <td>6</td>\n",
              "      <td>0</td>\n",
              "      <td>0</td>\n",
              "      <td>0</td>\n",
              "      <td>0</td>\n",
              "      <td>0</td>\n",
              "      <td>0</td>\n",
              "      <td>0</td>\n",
              "      <td>0</td>\n",
              "      <td>0</td>\n",
              "      <td>...</td>\n",
              "      <td>0</td>\n",
              "      <td>0</td>\n",
              "      <td>0</td>\n",
              "      <td>0</td>\n",
              "      <td>0</td>\n",
              "      <td>0</td>\n",
              "      <td>0</td>\n",
              "      <td>0</td>\n",
              "      <td>0</td>\n",
              "      <td>0</td>\n",
              "    </tr>\n",
              "    <tr>\n",
              "      <th>41999</th>\n",
              "      <td>9</td>\n",
              "      <td>0</td>\n",
              "      <td>0</td>\n",
              "      <td>0</td>\n",
              "      <td>0</td>\n",
              "      <td>0</td>\n",
              "      <td>0</td>\n",
              "      <td>0</td>\n",
              "      <td>0</td>\n",
              "      <td>0</td>\n",
              "      <td>...</td>\n",
              "      <td>0</td>\n",
              "      <td>0</td>\n",
              "      <td>0</td>\n",
              "      <td>0</td>\n",
              "      <td>0</td>\n",
              "      <td>0</td>\n",
              "      <td>0</td>\n",
              "      <td>0</td>\n",
              "      <td>0</td>\n",
              "      <td>0</td>\n",
              "    </tr>\n",
              "  </tbody>\n",
              "</table>\n",
              "<p>42000 rows × 785 columns</p>\n",
              "</div>\n",
              "      <button class=\"colab-df-convert\" onclick=\"convertToInteractive('df-87bd98a6-5e10-4f73-b889-040df2b4ccfd')\"\n",
              "              title=\"Convert this dataframe to an interactive table.\"\n",
              "              style=\"display:none;\">\n",
              "        \n",
              "  <svg xmlns=\"http://www.w3.org/2000/svg\" height=\"24px\"viewBox=\"0 0 24 24\"\n",
              "       width=\"24px\">\n",
              "    <path d=\"M0 0h24v24H0V0z\" fill=\"none\"/>\n",
              "    <path d=\"M18.56 5.44l.94 2.06.94-2.06 2.06-.94-2.06-.94-.94-2.06-.94 2.06-2.06.94zm-11 1L8.5 8.5l.94-2.06 2.06-.94-2.06-.94L8.5 2.5l-.94 2.06-2.06.94zm10 10l.94 2.06.94-2.06 2.06-.94-2.06-.94-.94-2.06-.94 2.06-2.06.94z\"/><path d=\"M17.41 7.96l-1.37-1.37c-.4-.4-.92-.59-1.43-.59-.52 0-1.04.2-1.43.59L10.3 9.45l-7.72 7.72c-.78.78-.78 2.05 0 2.83L4 21.41c.39.39.9.59 1.41.59.51 0 1.02-.2 1.41-.59l7.78-7.78 2.81-2.81c.8-.78.8-2.07 0-2.86zM5.41 20L4 18.59l7.72-7.72 1.47 1.35L5.41 20z\"/>\n",
              "  </svg>\n",
              "      </button>\n",
              "      \n",
              "  <style>\n",
              "    .colab-df-container {\n",
              "      display:flex;\n",
              "      flex-wrap:wrap;\n",
              "      gap: 12px;\n",
              "    }\n",
              "\n",
              "    .colab-df-convert {\n",
              "      background-color: #E8F0FE;\n",
              "      border: none;\n",
              "      border-radius: 50%;\n",
              "      cursor: pointer;\n",
              "      display: none;\n",
              "      fill: #1967D2;\n",
              "      height: 32px;\n",
              "      padding: 0 0 0 0;\n",
              "      width: 32px;\n",
              "    }\n",
              "\n",
              "    .colab-df-convert:hover {\n",
              "      background-color: #E2EBFA;\n",
              "      box-shadow: 0px 1px 2px rgba(60, 64, 67, 0.3), 0px 1px 3px 1px rgba(60, 64, 67, 0.15);\n",
              "      fill: #174EA6;\n",
              "    }\n",
              "\n",
              "    [theme=dark] .colab-df-convert {\n",
              "      background-color: #3B4455;\n",
              "      fill: #D2E3FC;\n",
              "    }\n",
              "\n",
              "    [theme=dark] .colab-df-convert:hover {\n",
              "      background-color: #434B5C;\n",
              "      box-shadow: 0px 1px 3px 1px rgba(0, 0, 0, 0.15);\n",
              "      filter: drop-shadow(0px 1px 2px rgba(0, 0, 0, 0.3));\n",
              "      fill: #FFFFFF;\n",
              "    }\n",
              "  </style>\n",
              "\n",
              "      <script>\n",
              "        const buttonEl =\n",
              "          document.querySelector('#df-87bd98a6-5e10-4f73-b889-040df2b4ccfd button.colab-df-convert');\n",
              "        buttonEl.style.display =\n",
              "          google.colab.kernel.accessAllowed ? 'block' : 'none';\n",
              "\n",
              "        async function convertToInteractive(key) {\n",
              "          const element = document.querySelector('#df-87bd98a6-5e10-4f73-b889-040df2b4ccfd');\n",
              "          const dataTable =\n",
              "            await google.colab.kernel.invokeFunction('convertToInteractive',\n",
              "                                                     [key], {});\n",
              "          if (!dataTable) return;\n",
              "\n",
              "          const docLinkHtml = 'Like what you see? Visit the ' +\n",
              "            '<a target=\"_blank\" href=https://colab.research.google.com/notebooks/data_table.ipynb>data table notebook</a>'\n",
              "            + ' to learn more about interactive tables.';\n",
              "          element.innerHTML = '';\n",
              "          dataTable['output_type'] = 'display_data';\n",
              "          await google.colab.output.renderOutput(dataTable, element);\n",
              "          const docLink = document.createElement('div');\n",
              "          docLink.innerHTML = docLinkHtml;\n",
              "          element.appendChild(docLink);\n",
              "        }\n",
              "      </script>\n",
              "    </div>\n",
              "  </div>\n",
              "  "
            ]
          },
          "metadata": {},
          "execution_count": 9
        }
      ]
    },
    {
      "cell_type": "code",
      "source": [
        "# No. of Rows & Columns\n",
        "train.shape"
      ],
      "metadata": {
        "colab": {
          "base_uri": "https://localhost:8080/"
        },
        "id": "119ACeCPsooa",
        "outputId": "3c21b2b5-36df-4ed1-efe7-29962dce0a48"
      },
      "execution_count": null,
      "outputs": [
        {
          "output_type": "execute_result",
          "data": {
            "text/plain": [
              "(42000, 785)"
            ]
          },
          "metadata": {},
          "execution_count": 10
        }
      ]
    },
    {
      "cell_type": "code",
      "source": [
        "# def create_pie(df, target_variable, figsize=(10, 10)):\n",
        "#     print(df[target_variable].value_counts())\n",
        "#     fig, ax = plt.subplots(figsize=figsize)\n",
        "#     ax.pie(df[target_variable].value_counts().values, labels=df[target_variable].value_counts().index, autopct='%1.2f%%', textprops={'fontsize': 10})\n",
        "#     ax.axis('equal')\n",
        "#     plt.title(target_variable)\n",
        "#     plt.show()\n",
        "    "
      ],
      "metadata": {
        "id": "5voFT4zassIa"
      },
      "execution_count": null,
      "outputs": []
    },
    {
      "cell_type": "code",
      "source": [
        "# plt.figure(figsize=(25, 25))\n",
        "# create_pie(train, 'label')"
      ],
      "metadata": {
        "colab": {
          "base_uri": "https://localhost:8080/",
          "height": 809
        },
        "id": "OYtT_ncYs3v6",
        "outputId": "590eab25-a121-450a-b8d3-62f2397309ae"
      },
      "execution_count": null,
      "outputs": [
        {
          "output_type": "stream",
          "name": "stdout",
          "text": [
            "1    4684\n",
            "7    4401\n",
            "3    4351\n",
            "9    4188\n",
            "2    4177\n",
            "6    4137\n",
            "0    4132\n",
            "4    4072\n",
            "8    4063\n",
            "5    3795\n",
            "Name: label, dtype: int64\n"
          ]
        },
        {
          "output_type": "display_data",
          "data": {
            "text/plain": [
              "<Figure size 1800x1800 with 0 Axes>"
            ]
          },
          "metadata": {}
        },
        {
          "output_type": "display_data",
          "data": {
            "text/plain": [
              "<Figure size 720x720 with 1 Axes>"
            ],
            "image/png": "[encoded data removed]"
          },
          "metadata": {}
        }
      ]
    },
    {
      "cell_type": "code",
      "source": [
        "cp = train.drop(['label'], axis=1)\n",
        "ratio = int(math.sqrt(cp.shape[1]))"
      ],
      "metadata": {
        "id": "RBJ4DF8StLyL"
      },
      "execution_count": null,
      "outputs": []
    },
    {
      "cell_type": "code",
      "source": [
        "train = train.drop(['label'], axis=1)"
      ],
      "metadata": {
        "id": "mRyYP6eutQeC"
      },
      "execution_count": null,
      "outputs": []
    },
    {
      "cell_type": "code",
      "source": [
        "first_image = train.iloc[0]\n",
        "first_image = np.array(first_image).reshape(ratio, ratio)\n",
        "plt.imshow(first_image);"
      ],
      "metadata": {
        "colab": {
          "base_uri": "https://localhost:8080/",
          "height": 265
        },
        "id": "UZBuFRnptWaC",
        "outputId": "6ff5e312-b98e-4e37-9b5c-8d78f85ae8d5"
      },
      "execution_count": null,
      "outputs": [
        {
          "output_type": "display_data",
          "data": {
            "text/plain": [
              "<Figure size 432x288 with 1 Axes>"
            ],
            "image/png": "[encoded data removed]"
          },
          "metadata": {
            "needs_background": "light"
          }
        }
      ]
    },
    {
      "cell_type": "code",
      "source": [
        "# trying to see 9 first images\n",
        "plt.figure(figsize=(25, 25))\n",
        "columns = 3\n",
        "firsts_image = train.iloc[:10]\n",
        "\n",
        "\n",
        "for i in range(0, 9):\n",
        "    image = np.array(train.iloc[i]).reshape(ratio, ratio)\n",
        "    \n",
        "    plt.subplot(int( firsts_image.shape[0]/ columns + 1), columns, i + 1)\n",
        "    plt.imshow(image, cmap='Greens')"
      ],
      "metadata": {
        "colab": {
          "base_uri": "https://localhost:8080/",
          "height": 894
        },
        "id": "gqVVQhT7tlvb",
        "outputId": "90981e3c-bcac-465c-a4de-440277c85aca"
      },
      "execution_count": null,
      "outputs": [
        {
          "output_type": "display_data",
          "data": {
            "text/plain": [
              "<Figure size 1800x1800 with 9 Axes>"
            ],
            "image/png": "[encoded data removed]"
          },
          "metadata": {
            "needs_background": "light"
          }
        }
      ]
    },
    {
      "cell_type": "code",
      "source": [
        "X = train\n",
        "y = train_label.to_list()\n",
        "\n",
        "X = train[:1000]\n",
        "y = train_label[:1000].to_list()\n",
        "\n",
        "X = X / 255.0\n",
        "\n",
        "# split our data into train and test\n",
        "X_train, X_test, y_train, y_test = train_test_split( X, y,\n",
        "                                                    test_size=0.3,\n",
        "                                                    random_state=42)\n",
        "\n",
        "# and we also need a validation set \n",
        "X_test, X_val, y_test, y_val = train_test_split( X_test, y_test,\n",
        "                                                    test_size=0.3,\n",
        "                                                    random_state=42)\n",
        "        \n",
        "# normalized paramas\n",
        "# {'coef0': 1, 'degree': 2, 'gamma': 0.1, 'kernel': 'poly'}\n",
        "\n",
        "SVM = svm.SVC(gamma=0.1, coef0=1, kernel='poly', degree=2)\n",
        "SVM.fit(X_train, y_train) \n",
        "index = 1\n",
        "#image = np.array(X_train.iloc[i]).reshape(ratio, ratio)\n",
        "x_pred = SVM.predict(X_test)\n",
        "print('prediction: \\n', x_pred)\n",
        "\n",
        "X_prediction = SVM.predict(X_test)\n",
        "print(f'test accuracy: \\t{accuracy_score(y_test,X_prediction)}')\n",
        "print(f'{classification_report(y_test, X_prediction)}')\n",
        "\n",
        "# Plot Actual vs. Predicted \n",
        "y_test = y_test\n",
        "predicted = SVM.predict(X_test)\n",
        "'''\n",
        "plt.figure(figsize=(28, 8))\n",
        "plt.title(\"all images -- Actual vs. Predicted SVM model -- normalized \", fontsize=20)\n",
        "plt.scatter(y_test, predicted,\n",
        "            color=\"purple\", marker=\"o\", facecolors=\"none\")\n",
        "\n",
        "plt.plot([0, 9], [0, 9], \"darkorange\", lw=2)\n",
        "plt.xlim(0, 9)\n",
        "plt.ylim(0, 9)\n",
        "plt.xlabel(\"Y test\", fontsize=16)\n",
        "plt.ylabel(\"Predicted Y\", fontsize=16)\n",
        "plt.show()\n",
        "\n",
        "\n",
        "N,train_score, val_score = learning_curve(model, X_train, y_train,\n",
        "                                   train_sizes=np.linspace(0.2,1.0,10 ),cv=5)\n",
        "\n",
        "plt.figure(figsize=(28, 8))\n",
        "plt.title(\"all images -- Learning Curve -- normalized \", fontsize=20)\n",
        "plt.plot(N, train_score.mean(axis = 1), label ='Train')\n",
        "plt.plot(N, val_score.mean(axis = 1), label ='Validation')\n",
        "plt.xlabel('train sizes')\n",
        "plt.legend();'''\n",
        "\n",
        "# Parameter Grid\n",
        "param_grid = {'kernel':['linear', 'poly'],# 'rbf', 'sigmoid'],\n",
        "              'degree':[1, 2,],\n",
        "              'gamma': [0.01, 0.1],\n",
        "              'coef0': [0.5, 1]\n",
        "             }\n",
        "grid = GridSearchCV(svm.SVC(), param_grid, cv=3)\n",
        "grid.fit(X_train, y_train)\n",
        "model = grid.best_estimator_\n",
        "model\n",
        "model.score(X_test, y_test)\n",
        "\n",
        "confusion_matrix(y_test, model.predict(X_test))"
      ],
      "metadata": {
        "colab": {
          "base_uri": "https://localhost:8080/"
        },
        "id": "uglZHcLLty0q",
        "outputId": "ffa9452e-0851-4231-8be5-377315714d75"
      },
      "execution_count": null,
      "outputs": [
        {
          "output_type": "stream",
          "name": "stdout",
          "text": [
            "prediction: \n",
            " [9 4 3 0 1 9 9 6 2 1 6 5 3 5 9 1 6 0 3 0 5 2 6 2 6 4 4 9 7 9 8 0 8 9 6 8 2\n",
            " 2 7 8 4 0 3 9 0 1 2 7 0 5 2 1 7 6 3 2 4 0 4 8 5 3 4 6 5 4 1 8 7 6 6 2 2 3\n",
            " 7 9 9 9 2 2 7 1 1 1 0 2 7 2 7 2 7 7 9 5 9 0 9 2 0 1 0 2 6 7 8 9 8 1 6 1 8\n",
            " 6 4 6 9 7 3 3 0 1 3 0 2 5 0 6 4 0 4 5 0 3 2 7 1 2 5 4 8 1 1 6 6 2 4 7 0 6\n",
            " 6 0 4 9 6 0 1 4 2 9 3 9 7 1 2 5 3 1 6 6 3 2 1 2 0 8 4 2 6 1 8 0 0 6 0 2 9\n",
            " 8 9 1 9 9 6 5 0 0 1 1 7 2 9 1 4 7 8 3 1 3 7 9 4 9]\n",
            "test accuracy: \t0.8714285714285714\n",
            "              precision    recall  f1-score   support\n",
            "\n",
            "           0       0.85      1.00      0.92        22\n",
            "           1       0.88      0.96      0.92        24\n",
            "           2       0.93      0.87      0.90        30\n",
            "           3       1.00      0.89      0.94        18\n",
            "           4       0.94      0.77      0.85        22\n",
            "           5       0.92      0.85      0.88        13\n",
            "           6       0.72      0.86      0.78        21\n",
            "           7       0.89      0.81      0.85        21\n",
            "           8       0.93      0.81      0.87        16\n",
            "           9       0.77      0.87      0.82        23\n",
            "\n",
            "    accuracy                           0.87       210\n",
            "   macro avg       0.88      0.87      0.87       210\n",
            "weighted avg       0.88      0.87      0.87       210\n",
            "\n"
          ]
        },
        {
          "output_type": "execute_result",
          "data": {
            "text/plain": [
              "array([[22,  0,  0,  0,  0,  0,  0,  0,  0,  0],\n",
              "       [ 0, 23,  0,  0,  0,  0,  1,  0,  0,  0],\n",
              "       [ 0,  1, 26,  0,  0,  0,  1,  1,  1,  0],\n",
              "       [ 0,  1,  0, 16,  0,  0,  0,  0,  0,  1],\n",
              "       [ 0,  0,  0,  0, 17,  0,  3,  0,  0,  2],\n",
              "       [ 1,  0,  0,  0,  0, 11,  1,  0,  0,  0],\n",
              "       [ 2,  0,  1,  0,  0,  0, 18,  0,  0,  0],\n",
              "       [ 0,  1,  1,  0,  0,  0,  1, 17,  0,  1],\n",
              "       [ 0,  0,  0,  0,  0,  1,  0,  0, 13,  2],\n",
              "       [ 1,  0,  0,  0,  1,  0,  0,  1,  0, 20]])"
            ]
          },
          "metadata": {},
          "execution_count": 17
        }
      ]
    },
    {
      "cell_type": "code",
      "source": [
        "# Data Expansion\n",
        "from sklearn.datasets import load_digits\n",
        "from tensorflow.keras.datasets import mnist\n",
        "\n",
        "digits = load_digits()\n",
        "(X_train, y_train), (X_test, y_test) = mnist.load_data()\n",
        "\n",
        "train = pd.read_csv('/content/train.csv')\n",
        "\n",
        "train_label = train['label']"
      ],
      "metadata": {
        "id": "uO1UMNXuukNC"
      },
      "execution_count": null,
      "outputs": []
    },
    {
      "cell_type": "code",
      "source": [
        "digit_data = digits.data\n",
        "digit_target = digits.target\n",
        "'''print(len(digit_data))\n",
        "print(digit_data.shape)\n",
        "print(digit_data[0])\n",
        "print(len(digit_target))'''\n",
        "\n",
        "'''ratio = int(math.sqrt(digit_data[0].shape[0]))\n",
        "\n",
        "# trying to see 9 first images\n",
        "plt.figure(figsize=(25, 25))\n",
        "columns = 3\n",
        "firsts_image = digit_data[:10]\n",
        "\n",
        "\n",
        "for i in range(0, 9):\n",
        "    image = np.array(digit_data[i]).reshape(ratio, ratio)\n",
        "    \n",
        "    plt.subplot(int( firsts_image.shape[0]/ columns + 1), columns, i + 1)\n",
        "    plt.imshow(image, cmap='Purples')'''"
      ],
      "metadata": {
        "colab": {
          "base_uri": "https://localhost:8080/",
          "height": 70
        },
        "id": "2hOQUeRjuzFy",
        "outputId": "28fafc91-07a6-49e3-de67-1ba3dea5c615"
      },
      "execution_count": null,
      "outputs": [
        {
          "output_type": "execute_result",
          "data": {
            "text/plain": [
              "\"ratio = int(math.sqrt(digit_data[0].shape[0]))\\n\\n# trying to see 9 first images\\nplt.figure(figsize=(25, 25))\\ncolumns = 3\\nfirsts_image = digit_data[:10]\\n\\n\\nfor i in range(0, 9):\\n    image = np.array(digit_data[i]).reshape(ratio, ratio)\\n    \\n    plt.subplot(int( firsts_image.shape[0]/ columns + 1), columns, i + 1)\\n    plt.imshow(image, cmap='Purples')\""
            ],
            "application/vnd.google.colaboratory.intrinsic+json": {
              "type": "string"
            }
          },
          "metadata": {},
          "execution_count": 20
        }
      ]
    },
    {
      "cell_type": "code",
      "source": [
        "# Keras train image 28 X 28 px\n",
        "# I could use it with my actual dataset \n",
        "\n",
        "\n",
        "digit_data = X_train\n",
        "digit_target = y_train\n",
        "'''print(len(digit_data))\n",
        "print(digit_data.shape)\n",
        "print(digit_data[0])\n",
        "print(len(digit_target))'''\n",
        "\n",
        "'''# trying to see 9 first images\n",
        "plt.figure(figsize=(25, 25))\n",
        "columns = 3\n",
        "firsts_image = digit_data[:10]\n",
        "\n",
        "\n",
        "for i in range(0, 9):\n",
        "    image = np.array(digit_data[i])#.reshape(ratio, ratio)\n",
        "    \n",
        "    plt.subplot(int( firsts_image.shape[0]/ columns + 1), columns, i + 1)\n",
        "    plt.imshow(image, cmap='Purples')'''"
      ],
      "metadata": {
        "colab": {
          "base_uri": "https://localhost:8080/",
          "height": 70
        },
        "id": "wJX_LUp_u51T",
        "outputId": "fa4afd5e-43e8-4bf2-86bd-3c5ec990860e"
      },
      "execution_count": null,
      "outputs": [
        {
          "output_type": "execute_result",
          "data": {
            "text/plain": [
              "\"# trying to see 9 first images\\nplt.figure(figsize=(25, 25))\\ncolumns = 3\\nfirsts_image = digit_data[:10]\\n\\n\\nfor i in range(0, 9):\\n    image = np.array(digit_data[i])#.reshape(ratio, ratio)\\n    \\n    plt.subplot(int( firsts_image.shape[0]/ columns + 1), columns, i + 1)\\n    plt.imshow(image, cmap='Purples')\""
            ],
            "application/vnd.google.colaboratory.intrinsic+json": {
              "type": "string"
            }
          },
          "metadata": {},
          "execution_count": 21
        }
      ]
    },
    {
      "cell_type": "code",
      "source": [
        "#(X_train, y_train), (X_test, y_test) = mnist.load_data()\n",
        "\n",
        "print(X_train.shape)\n",
        "print(X_test.shape)\n",
        "\n",
        "X_trainB = np.append(X_train, X_test).reshape(-1, 28 * 28)\n",
        "print(X_trainB.shape)\n",
        "\n",
        "y_trainB = np.append(y_train, y_test)\n",
        "print(y_trainB.shape)\n",
        "\n",
        "'''train_label = train['label']\n",
        "train = pd.read_csv('/content/train.csv')\n",
        "train'''"
      ],
      "metadata": {
        "colab": {
          "base_uri": "https://localhost:8080/",
          "height": 105
        },
        "id": "WNnz22Y7vCFj",
        "outputId": "95bd13f8-4f29-4291-88c9-eac2d1f801c9"
      },
      "execution_count": null,
      "outputs": [
        {
          "output_type": "stream",
          "name": "stdout",
          "text": [
            "(60000, 28, 28)\n",
            "(10000, 28, 28)\n",
            "(70000, 784)\n",
            "(70000,)\n"
          ]
        },
        {
          "output_type": "execute_result",
          "data": {
            "text/plain": [
              "\"train_label = train['label']\\ntrain = pd.read_csv('/content/train.csv')\\ntrain\""
            ],
            "application/vnd.google.colaboratory.intrinsic+json": {
              "type": "string"
            }
          },
          "metadata": {},
          "execution_count": 23
        }
      ]
    },
    {
      "cell_type": "code",
      "source": [
        "train = pd.read_csv('/content/train.csv')\n",
        "train_label = train['label']\n",
        "train = train.drop(['label'], axis=1)\n",
        "\n",
        "X_train = np.append(X_trainB, train).reshape(-1, 28 * 28)\n",
        "print(X_train.shape)\n",
        "\n",
        "y_train = np.append(y_trainB, train_label)\n",
        "print(y_train.shape)"
      ],
      "metadata": {
        "colab": {
          "base_uri": "https://localhost:8080/"
        },
        "id": "sMWfDSlMvV8q",
        "outputId": "9eff75c8-ed5a-4ed9-9aa0-c3f8da409ff0"
      },
      "execution_count": null,
      "outputs": [
        {
          "output_type": "stream",
          "name": "stdout",
          "text": [
            "(112000, 784)\n",
            "(112000,)\n"
          ]
        }
      ]
    },
    {
      "cell_type": "code",
      "source": [
        "X = X_train\n",
        "y = y_train\n",
        "\n",
        "X = X / 255.0\n",
        "\n",
        "# split our data into train and test\n",
        "'''X_train, X_test, y_train, y_test = train_test_split( X, y,\n",
        "                                                    test_size=0.3,\n",
        "                                                    random_state=42)'''\n",
        "\n",
        "# and we also need a validation set \n",
        "'''X_test, X_val, y_test, y_val = train_test_split( X_test, y_test,\n",
        "                                                    test_size=0.3,\n",
        "                                                    random_state=42)'''\n",
        "        \n",
        "# normalized paramas\n",
        "# {'coef0': 1, 'degree': 2, 'gamma': 0.1, 'kernel': 'poly'}\n",
        "\n",
        "SVM = svm.SVC(gamma=0.1, coef0=1, kernel='poly', degree=2)\n",
        "SVM.fit(X, y) \n",
        "'''index = 1\n",
        "#image = np.array(X_train.iloc[i]).reshape(ratio, ratio)\n",
        "x_pred = SVM.predict(X_test)\n",
        "print('prediction: \\n', x_pred)\n",
        "\n",
        "X_prediction = SVM.predict(X_test)\n",
        "print(f'test accuracy: \\t{accuracy_score(y_test,X_prediction)}')\n",
        "print(f'{classification_report(y_test, X_prediction)}')'''\n",
        "\n",
        "# Plot Actual vs. Predicted \n",
        "'''y_test = y_test\n",
        "predicted = SVM.predict(X_test)\n",
        "\n",
        "plt.figure(figsize=(28, 8))\n",
        "plt.title(\"all images -- Actual vs. Predicted SVM model -- normalized \", fontsize=20)\n",
        "plt.scatter(y_test, predicted,\n",
        "            color=\"purple\", marker=\"o\", facecolors=\"none\")\n",
        "\n",
        "plt.plot([0, 9], [0, 9], \"darkorange\", lw=2)\n",
        "plt.xlim(0, 9)\n",
        "plt.ylim(0, 9)\n",
        "plt.xlabel(\"Y test\", fontsize=16)\n",
        "plt.ylabel(\"Predicted Y\", fontsize=16)\n",
        "plt.show()'''\n",
        "\n",
        "\n",
        "'''N,train_score, val_score = learning_curve(model, X_train, y_train,\n",
        "                                   train_sizes=np.linspace(0.2,1.0,10 ),cv=3)\n",
        "\n",
        "plt.figure(figsize=(28, 8))\n",
        "plt.title(\"all images -- Learning Curve -- normalized \", fontsize=20)\n",
        "plt.plot(N, train_score.mean(axis = 1), label ='Train')\n",
        "plt.plot(N, val_score.mean(axis = 1), label ='Validation')\n",
        "plt.xlabel('train sizes')\n",
        "plt.legend();'''\n",
        "\n",
        "\n",
        "#confusion_matrix(y_test, model.predict(X_test))"
      ],
      "metadata": {
        "colab": {
          "base_uri": "https://localhost:8080/",
          "height": 70
        },
        "id": "avEMP-Yvvhfi",
        "outputId": "c0c8ed6d-8ba0-4ff6-9e22-986bb69faf3d"
      },
      "execution_count": null,
      "outputs": [
        {
          "output_type": "execute_result",
          "data": {
            "text/plain": [
              "'N,train_score, val_score = learning_curve(model, X_train, y_train,\\n                                   train_sizes=np.linspace(0.2,1.0,10 ),cv=3)\\n\\nplt.figure(figsize=(28, 8))\\nplt.title(\"all images -- Learning Curve -- normalized \", fontsize=20)\\nplt.plot(N, train_score.mean(axis = 1), label =\\'Train\\')\\nplt.plot(N, val_score.mean(axis = 1), label =\\'Validation\\')\\nplt.xlabel(\\'train sizes\\')\\nplt.legend();'"
            ],
            "application/vnd.google.colaboratory.intrinsic+json": {
              "type": "string"
            }
          },
          "metadata": {},
          "execution_count": 25
        }
      ]
    },
    {
      "cell_type": "code",
      "source": [
        "\n",
        "plt.figure(figsize=(25, 25))\n",
        "columns = 3\n",
        "firsts_image = test.iloc[:10]\n",
        "\n",
        "\n",
        "for i in range(0, 9):\n",
        "    image = np.array(test.iloc[i]).reshape(ratio, ratio)\n",
        "    \n",
        "    plt.subplot(int( firsts_image.shape[0]/ columns + 1), columns, i + 1)\n",
        "    plt.imshow(image, cmap='Purples')\n"
      ],
      "metadata": {
        "colab": {
          "base_uri": "https://localhost:8080/",
          "height": 894
        },
        "id": "aIx772e5vryi",
        "outputId": "3b965c46-9db8-412f-d59e-2b88eecedac1"
      },
      "execution_count": null,
      "outputs": [
        {
          "output_type": "display_data",
          "data": {
            "text/plain": [
              "<Figure size 1800x1800 with 9 Axes>"
            ],
            "image/png": "[encoded data removed]"
          },
          "metadata": {
            "needs_background": "light"
          }
        }
      ]
    },
    {
      "cell_type": "code",
      "source": [
        "x_submit = test.copy()\n",
        "x_submit = x_submit / 255.0"
      ],
      "metadata": {
        "id": "LRktSnMyxl0h"
      },
      "execution_count": null,
      "outputs": []
    },
    {
      "cell_type": "code",
      "source": [
        "X_prediction = SVM.predict(x_submit)\n",
        "print('prediction: \\n', X_prediction)"
      ],
      "metadata": {
        "colab": {
          "base_uri": "https://localhost:8080/"
        },
        "id": "p_OZubiGxq6Z",
        "outputId": "6f504b98-2aee-470e-b01a-29a4e1895216"
      },
      "execution_count": null,
      "outputs": [
        {
          "output_type": "stream",
          "name": "stderr",
          "text": [
            "/usr/local/lib/python3.7/dist-packages/sklearn/base.py:444: UserWarning: X has feature names, but SVC was fitted without feature names\n",
            "  f\"X has feature names, but {self.__class__.__name__} was fitted without\"\n"
          ]
        },
        {
          "output_type": "stream",
          "name": "stdout",
          "text": [
            "prediction: \n",
            " [2 0 9 ... 3 9 2]\n"
          ]
        }
      ]
    },
    {
      "cell_type": "code",
      "source": [
        "pred = pd.Series(X_prediction, name='Label')\n",
        "pred.head()\n",
        "\n",
        "index_list = []\n",
        "\n",
        "for i, item in enumerate(pred):\n",
        "    index_list.append(i+1)\n",
        "    \n",
        "image_id = pd.Series(index_list, name='ImageId')"
      ],
      "metadata": {
        "id": "VVMFOX_Xyqlw"
      },
      "execution_count": null,
      "outputs": []
    },
    {
      "cell_type": "code",
      "source": [
        "submit = pd.concat([image_id, pred], axis=1)\n",
        "submit.to_csv('submission.csv', index=False)\n",
        "from google.colab import files\n",
        "files.download('submission.csv')\n",
        "submit.tail()\n",
        "sub = pd.read_csv('./submission.csv')\n",
        "sub"
      ],
      "metadata": {
        "colab": {
          "base_uri": "https://localhost:8080/",
          "height": 424
        },
        "id": "wCw7AzLny0dJ",
        "outputId": "00eab528-2138-4adf-9d8b-49a73d814867"
      },
      "execution_count": null,
      "outputs": [
        {
          "output_type": "display_data",
          "data": {
            "text/plain": [
              "<IPython.core.display.Javascript object>"
            ],
            "application/javascript": [
              "\n",
              "    async function download(id, filename, size) {\n",
              "      if (!google.colab.kernel.accessAllowed) {\n",
              "        return;\n",
              "      }\n",
              "      const div = document.createElement('div');\n",
              "      const label = document.createElement('label');\n",
              "      label.textContent = `Downloading \"${filename}\": `;\n",
              "      div.appendChild(label);\n",
              "      const progress = document.createElement('progress');\n",
              "      progress.max = size;\n",
              "      div.appendChild(progress);\n",
              "      document.body.appendChild(div);\n",
              "\n",
              "      const buffers = [];\n",
              "      let downloaded = 0;\n",
              "\n",
              "      const channel = await google.colab.kernel.comms.open(id);\n",
              "      // Send a message to notify the kernel that we're ready.\n",
              "      channel.send({})\n",
              "\n",
              "      for await (const message of channel.messages) {\n",
              "        // Send a message to notify the kernel that we're ready.\n",
              "        channel.send({})\n",
              "        if (message.buffers) {\n",
              "          for (const buffer of message.buffers) {\n",
              "            buffers.push(buffer);\n",
              "            downloaded += buffer.byteLength;\n",
              "            progress.value = downloaded;\n",
              "          }\n",
              "        }\n",
              "      }\n",
              "      const blob = new Blob(buffers, {type: 'application/binary'});\n",
              "      const a = document.createElement('a');\n",
              "      a.href = window.URL.createObjectURL(blob);\n",
              "      a.download = filename;\n",
              "      div.appendChild(a);\n",
              "      a.click();\n",
              "      div.remove();\n",
              "    }\n",
              "  "
            ]
          },
          "metadata": {}
        },
        {
          "output_type": "display_data",
          "data": {
            "text/plain": [
              "<IPython.core.display.Javascript object>"
            ],
            "application/javascript": [
              "download(\"download_c93f9a77-7444-40ac-8d30-eeaed0dab326\", \"submission.csv\", 212908)"
            ]
          },
          "metadata": {}
        },
        {
          "output_type": "execute_result",
          "data": {
            "text/plain": [
              "       ImageId  Label\n",
              "0            1      2\n",
              "1            2      0\n",
              "2            3      9\n",
              "3            4      0\n",
              "4            5      3\n",
              "...        ...    ...\n",
              "27995    27996      9\n",
              "27996    27997      7\n",
              "27997    27998      3\n",
              "27998    27999      9\n",
              "27999    28000      2\n",
              "\n",
              "[28000 rows x 2 columns]"
            ],
            "text/html": [
              "\n",
              "  <div id=\"df-4078829f-a200-4439-8633-2287677eed4b\">\n",
              "    <div class=\"colab-df-container\">\n",
              "      <div>\n",
              "<style scoped>\n",
              "    .dataframe tbody tr th:only-of-type {\n",
              "        vertical-align: middle;\n",
              "    }\n",
              "\n",
              "    .dataframe tbody tr th {\n",
              "        vertical-align: top;\n",
              "    }\n",
              "\n",
              "    .dataframe thead th {\n",
              "        text-align: right;\n",
              "    }\n",
              "</style>\n",
              "<table border=\"1\" class=\"dataframe\">\n",
              "  <thead>\n",
              "    <tr style=\"text-align: right;\">\n",
              "      <th></th>\n",
              "      <th>ImageId</th>\n",
              "      <th>Label</th>\n",
              "    </tr>\n",
              "  </thead>\n",
              "  <tbody>\n",
              "    <tr>\n",
              "      <th>0</th>\n",
              "      <td>1</td>\n",
              "      <td>2</td>\n",
              "    </tr>\n",
              "    <tr>\n",
              "      <th>1</th>\n",
              "      <td>2</td>\n",
              "      <td>0</td>\n",
              "    </tr>\n",
              "    <tr>\n",
              "      <th>2</th>\n",
              "      <td>3</td>\n",
              "      <td>9</td>\n",
              "    </tr>\n",
              "    <tr>\n",
              "      <th>3</th>\n",
              "      <td>4</td>\n",
              "      <td>0</td>\n",
              "    </tr>\n",
              "    <tr>\n",
              "      <th>4</th>\n",
              "      <td>5</td>\n",
              "      <td>3</td>\n",
              "    </tr>\n",
              "    <tr>\n",
              "      <th>...</th>\n",
              "      <td>...</td>\n",
              "      <td>...</td>\n",
              "    </tr>\n",
              "    <tr>\n",
              "      <th>27995</th>\n",
              "      <td>27996</td>\n",
              "      <td>9</td>\n",
              "    </tr>\n",
              "    <tr>\n",
              "      <th>27996</th>\n",
              "      <td>27997</td>\n",
              "      <td>7</td>\n",
              "    </tr>\n",
              "    <tr>\n",
              "      <th>27997</th>\n",
              "      <td>27998</td>\n",
              "      <td>3</td>\n",
              "    </tr>\n",
              "    <tr>\n",
              "      <th>27998</th>\n",
              "      <td>27999</td>\n",
              "      <td>9</td>\n",
              "    </tr>\n",
              "    <tr>\n",
              "      <th>27999</th>\n",
              "      <td>28000</td>\n",
              "      <td>2</td>\n",
              "    </tr>\n",
              "  </tbody>\n",
              "</table>\n",
              "<p>28000 rows × 2 columns</p>\n",
              "</div>\n",
              "      <button class=\"colab-df-convert\" onclick=\"convertToInteractive('df-4078829f-a200-4439-8633-2287677eed4b')\"\n",
              "              title=\"Convert this dataframe to an interactive table.\"\n",
              "              style=\"display:none;\">\n",
              "        \n",
              "  <svg xmlns=\"http://www.w3.org/2000/svg\" height=\"24px\"viewBox=\"0 0 24 24\"\n",
              "       width=\"24px\">\n",
              "    <path d=\"M0 0h24v24H0V0z\" fill=\"none\"/>\n",
              "    <path d=\"M18.56 5.44l.94 2.06.94-2.06 2.06-.94-2.06-.94-.94-2.06-.94 2.06-2.06.94zm-11 1L8.5 8.5l.94-2.06 2.06-.94-2.06-.94L8.5 2.5l-.94 2.06-2.06.94zm10 10l.94 2.06.94-2.06 2.06-.94-2.06-.94-.94-2.06-.94 2.06-2.06.94z\"/><path d=\"M17.41 7.96l-1.37-1.37c-.4-.4-.92-.59-1.43-.59-.52 0-1.04.2-1.43.59L10.3 9.45l-7.72 7.72c-.78.78-.78 2.05 0 2.83L4 21.41c.39.39.9.59 1.41.59.51 0 1.02-.2 1.41-.59l7.78-7.78 2.81-2.81c.8-.78.8-2.07 0-2.86zM5.41 20L4 18.59l7.72-7.72 1.47 1.35L5.41 20z\"/>\n",
              "  </svg>\n",
              "      </button>\n",
              "      \n",
              "  <style>\n",
              "    .colab-df-container {\n",
              "      display:flex;\n",
              "      flex-wrap:wrap;\n",
              "      gap: 12px;\n",
              "    }\n",
              "\n",
              "    .colab-df-convert {\n",
              "      background-color: #E8F0FE;\n",
              "      border: none;\n",
              "      border-radius: 50%;\n",
              "      cursor: pointer;\n",
              "      display: none;\n",
              "      fill: #1967D2;\n",
              "      height: 32px;\n",
              "      padding: 0 0 0 0;\n",
              "      width: 32px;\n",
              "    }\n",
              "\n",
              "    .colab-df-convert:hover {\n",
              "      background-color: #E2EBFA;\n",
              "      box-shadow: 0px 1px 2px rgba(60, 64, 67, 0.3), 0px 1px 3px 1px rgba(60, 64, 67, 0.15);\n",
              "      fill: #174EA6;\n",
              "    }\n",
              "\n",
              "    [theme=dark] .colab-df-convert {\n",
              "      background-color: #3B4455;\n",
              "      fill: #D2E3FC;\n",
              "    }\n",
              "\n",
              "    [theme=dark] .colab-df-convert:hover {\n",
              "      background-color: #434B5C;\n",
              "      box-shadow: 0px 1px 3px 1px rgba(0, 0, 0, 0.15);\n",
              "      filter: drop-shadow(0px 1px 2px rgba(0, 0, 0, 0.3));\n",
              "      fill: #FFFFFF;\n",
              "    }\n",
              "  </style>\n",
              "\n",
              "      <script>\n",
              "        const buttonEl =\n",
              "          document.querySelector('#df-4078829f-a200-4439-8633-2287677eed4b button.colab-df-convert');\n",
              "        buttonEl.style.display =\n",
              "          google.colab.kernel.accessAllowed ? 'block' : 'none';\n",
              "\n",
              "        async function convertToInteractive(key) {\n",
              "          const element = document.querySelector('#df-4078829f-a200-4439-8633-2287677eed4b');\n",
              "          const dataTable =\n",
              "            await google.colab.kernel.invokeFunction('convertToInteractive',\n",
              "                                                     [key], {});\n",
              "          if (!dataTable) return;\n",
              "\n",
              "          const docLinkHtml = 'Like what you see? Visit the ' +\n",
              "            '<a target=\"_blank\" href=https://colab.research.google.com/notebooks/data_table.ipynb>data table notebook</a>'\n",
              "            + ' to learn more about interactive tables.';\n",
              "          element.innerHTML = '';\n",
              "          dataTable['output_type'] = 'display_data';\n",
              "          await google.colab.output.renderOutput(dataTable, element);\n",
              "          const docLink = document.createElement('div');\n",
              "          docLink.innerHTML = docLinkHtml;\n",
              "          element.appendChild(docLink);\n",
              "        }\n",
              "      </script>\n",
              "    </div>\n",
              "  </div>\n",
              "  "
            ]
          },
          "metadata": {},
          "execution_count": 32
        }
      ]
    },
    {
      "cell_type": "code",
      "source": [
        "newPredictions.to_csv(\"NewPredictions.csv\", index=False)\n",
        "\n",
        "from google.colab import files\n",
        "files.download('NewPredictions.csv')"
      ],
      "metadata": {
        "id": "PQyOjnG2zjNL"
      },
      "execution_count": null,
      "outputs": []
    }
  ]
}